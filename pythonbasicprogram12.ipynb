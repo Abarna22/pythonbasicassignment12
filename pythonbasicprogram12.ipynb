{
 "cells": [
  {
   "cell_type": "code",
   "execution_count": 2,
   "id": "aa40526d",
   "metadata": {},
   "outputs": [
    {
     "name": "stdout",
     "output_type": "stream",
     "text": [
      "[1, 2, 3, 4, 5, 6, 7, 8, 9]\n"
     ]
    }
   ],
   "source": [
    "\"\"\"1. Write a Python program to Extract Unique values dictionary values?\n",
    "Ans\"\"\"\n",
    "dic= {'a' :[1,3,4,5], 'b':[1,2,3,4],'c':[5,6,7,8],'d':[6,7,8,9]}\n",
    "res=list(sorted({ele for v in dic.values() for ele in v}))\n",
    "print(res)"
   ]
  },
  {
   "cell_type": "code",
   "execution_count": 5,
   "id": "484624c6",
   "metadata": {},
   "outputs": [
    {
     "name": "stdout",
     "output_type": "stream",
     "text": [
      "10\n"
     ]
    }
   ],
   "source": [
    "\"\"\"2. Write a Python program to find the sum of all items in a dictionary?\n",
    "Ans\"\"\"\n",
    "dic= {'a' :1, 'b':2,'c':3,'d':4}\n",
    "print(sum(dic.values()))"
   ]
  },
  {
   "cell_type": "code",
   "execution_count": 10,
   "id": "72ac9d74",
   "metadata": {},
   "outputs": [
    {
     "name": "stdout",
     "output_type": "stream",
     "text": [
      "{'a': 1, 'b': 2, 'c': 3, 'd': 4, 'e': [1, 3, 4, 5], 'f': [1, 2, 3, 4]}\n"
     ]
    }
   ],
   "source": [
    "\"\"\"3. Write a Python program to Merging two Dictionaries?\n",
    "Ans\"\"\"\n",
    "dic1= {'a' :1, 'b':2,'c':3,'d':4}\n",
    "dic= {'e' :[1,3,4,5], 'f':[1,2,3,4]}\n",
    "print({**dic1, **dic})"
   ]
  },
  {
   "cell_type": "code",
   "execution_count": 24,
   "id": "94fd2985",
   "metadata": {},
   "outputs": [
    {
     "name": "stdout",
     "output_type": "stream",
     "text": [
      "Flattened dictionary : {1: 'Jan', 2: 'Feb', 3: 'March'}\n"
     ]
    }
   ],
   "source": [
    "\"\"\"4. Write a Python program to convert key-values list to flat dictionary?\n",
    "Ans\"\"\"\n",
    "from itertools import product\n",
    "test_dict = {'month' : [1, 2, 3],\n",
    "             'name' : ['Jan', 'Feb', 'March']}\n",
    "res = dict(zip(test_dict['month'], test_dict['name'])) \n",
    "print(\"Flattened dictionary : \" + str(res)) "
   ]
  },
  {
   "cell_type": "code",
   "execution_count": 28,
   "id": "46ba0dfb",
   "metadata": {},
   "outputs": [
    {
     "name": "stdout",
     "output_type": "stream",
     "text": [
      "OrderedDict([('mark', '6'), ('Will', '1'), ('James', '2'), ('Rob', '4')])\n"
     ]
    }
   ],
   "source": [
    "\"\"\"5. Write a Python program to insertion at the beginning in OrderedDict?\n",
    "Ans\"\"\"\n",
    "from collections import OrderedDict\n",
    "\n",
    "dic=OrderedDict([('Will', '1'), ('James', '2'), ('Rob', '4')])\n",
    "dic.update({'mark':'6'})\n",
    "dic.move_to_end('mark',last=False)\n",
    "print(dic)"
   ]
  },
  {
   "cell_type": "code",
   "execution_count": 32,
   "id": "dbd3dc20",
   "metadata": {},
   "outputs": [
    {
     "name": "stdout",
     "output_type": "stream",
     "text": [
      "False\n"
     ]
    }
   ],
   "source": [
    "\"\"\"6. Write a Python program to check order of character in string using OrderedDict()?\n",
    "Ans\"\"\"\n",
    "from collections import OrderedDict\n",
    "def check_order(string, pattern): \n",
    "    dic = OrderedDict.fromkeys(string) \n",
    "    ptr = 0\n",
    "    for key,value in dic.items(): \n",
    "        if (key == pattern[ptr]): \n",
    "            ptr = ptr + 1\n",
    "        if (ptr == (len(pattern))): \n",
    "            return 'True'\n",
    "    return 'False'\n",
    "\n",
    "string = 'Study tonight'\n",
    "pattern = 'stu'\n",
    "print (check_order(string,pattern))\n"
   ]
  },
  {
   "cell_type": "code",
   "execution_count": 35,
   "id": "9c2c8ddc",
   "metadata": {},
   "outputs": [
    {
     "name": "stdout",
     "output_type": "stream",
     "text": [
      "a :78\n",
      "b :2\n",
      "c :3\n",
      "d :1\n"
     ]
    }
   ],
   "source": [
    "\"\"\"7. Write a Python program to sort Python Dictionaries by Key or Value?\n",
    "Ans\"\"\"\n",
    "dic={'d':1,'b':2,'c':3,'a':78}\n",
    "for key in sorted(dic):\n",
    "    print(\"{} :{}\".format(key,dic[key]))\n"
   ]
  },
  {
   "cell_type": "code",
   "execution_count": null,
   "id": "d0c3dcc9",
   "metadata": {},
   "outputs": [],
   "source": []
  }
 ],
 "metadata": {
  "kernelspec": {
   "display_name": "Python 3",
   "language": "python",
   "name": "python3"
  },
  "language_info": {
   "codemirror_mode": {
    "name": "ipython",
    "version": 3
   },
   "file_extension": ".py",
   "mimetype": "text/x-python",
   "name": "python",
   "nbconvert_exporter": "python",
   "pygments_lexer": "ipython3",
   "version": "3.8.8"
  }
 },
 "nbformat": 4,
 "nbformat_minor": 5
}
